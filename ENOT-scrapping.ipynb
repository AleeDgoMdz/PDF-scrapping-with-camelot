{
 "cells": [
  {
   "cell_type": "code",
   "execution_count": 1,
   "id": "0df4e0a5",
   "metadata": {},
   "outputs": [],
   "source": [
    "import pandas as pd\n",
    "import geopandas as gpd\n",
    "import camelot"
   ]
  },
  {
   "cell_type": "markdown",
   "id": "bf4239b7",
   "metadata": {},
   "source": [
    "Camelot allows to read pdf an extract tables with just a few lines. It's not necessary separate pages  with only tables before, you can especify it in **pages**"
   ]
  },
  {
   "cell_type": "code",
   "execution_count": 2,
   "id": "ce26c885",
   "metadata": {},
   "outputs": [],
   "source": [
    "#Readig the pdf and creating tables object\n",
    "tables=camelot.read_pdf(\"tablas.pdf\",pages=\"1-end\")"
   ]
  },
  {
   "cell_type": "markdown",
   "id": "7644fda9",
   "metadata": {},
   "source": [
    "Camelot has different ways to manipulate differents type of tables. <br>\n",
    "In this case I don't need the three first rows where some data are store  but if you need it you can look for [here](https://camelot-py.readthedocs.io/en/master/) how the object is constructed. Here a example of my tables\n",
    "![Example](tabExample.png)\n"
   ]
  },
  {
   "cell_type": "code",
   "execution_count": 3,
   "id": "d55fcc93",
   "metadata": {},
   "outputs": [],
   "source": [
    "litables=[]  #litables store  a df por each table object, then it can be concat\n",
    "accu=pd.DataFrame() #store the report of each table to plot the histogram accuracy\n",
    "for table in tables:\n",
    "    accu=accu.append(table.parsing_report,ignore_index=True)\n",
    "    single= table.df \n",
    "    single.columns=[\"cvemun\",\"nombre\",\"SUR\"]\n",
    "    single.drop([0,1,2],axis=0,inplace=True)\n",
    "    litables.append(single)\n",
    "finalTable=pd.concat(litables,ignore_index=True)"
   ]
  },
  {
   "cell_type": "code",
   "execution_count": 14,
   "id": "10b3387e",
   "metadata": {
    "scrolled": true
   },
   "outputs": [
    {
     "name": "stdout",
     "output_type": "stream",
     "text": [
      "  cvemun              nombre                             SUR\n",
      "0  02001            Ensenada  Noroeste II (Tijuana-Mexicali)\n",
      "1  02002            Mexicali  Noroeste II (Tijuana-Mexicali)\n",
      "2  02003              Tecate  Noroeste II (Tijuana-Mexicali)\n",
      "3  02004             Tijuana  Noroeste II (Tijuana-Mexicali)\n",
      "4  02005  Playas de Rosarito  Noroeste II (Tijuana-Mexicali)\n"
     ]
    },
    {
     "data": {
      "text/plain": [
       "(2331, 3)"
      ]
     },
     "execution_count": 14,
     "metadata": {},
     "output_type": "execute_result"
    }
   ],
   "source": [
    "print(finalTable.head())\n",
    "finalTable.shape"
   ]
  },
  {
   "cell_type": "code",
   "execution_count": 5,
   "id": "03245526",
   "metadata": {},
   "outputs": [
    {
     "data": {
      "text/plain": [
       "array([[<AxesSubplot:title={'center':'accuracy'}>]], dtype=object)"
      ]
     },
     "execution_count": 5,
     "metadata": {},
     "output_type": "execute_result"
    },
    {
     "data": {
      "image/png": "[encoded data removed]",
      "text/plain": [
       "<Figure size 1080x432 with 1 Axes>"
      ]
     },
     "metadata": {
      "needs_background": "light"
     },
     "output_type": "display_data"
    }
   ],
   "source": [
    "accu.hist(column=\"accuracy\",bins=25,figsize=(15,6))"
   ]
  },
  {
   "cell_type": "markdown",
   "id": "fdfd2f9a",
   "metadata": {},
   "source": [
    "## In this part I just open the shape file that contain the thownships to merge with the df generate"
   ]
  },
  {
   "cell_type": "code",
   "execution_count": 21,
   "id": "1252108c",
   "metadata": {},
   "outputs": [
    {
     "data": {
      "text/html": [
       "<div>\n",
       "<style scoped>\n",
       "    .dataframe tbody tr th:only-of-type {\n",
       "        vertical-align: middle;\n",
       "    }\n",
       "\n",
       "    .dataframe tbody tr th {\n",
       "        vertical-align: top;\n",
       "    }\n",
       "\n",
       "    .dataframe thead th {\n",
       "        text-align: right;\n",
       "    }\n",
       "</style>\n",
       "<table border=\"1\" class=\"dataframe\">\n",
       "  <thead>\n",
       "    <tr style=\"text-align: right;\">\n",
       "      <th></th>\n",
       "      <th>CVEGEO</th>\n",
       "      <th>CVE_ENT</th>\n",
       "      <th>CVE_MUN</th>\n",
       "      <th>NOMGEO</th>\n",
       "      <th>geometry</th>\n",
       "    </tr>\n",
       "  </thead>\n",
       "  <tbody>\n",
       "    <tr>\n",
       "      <th>0</th>\n",
       "      <td>11001</td>\n",
       "      <td>11</td>\n",
       "      <td>001</td>\n",
       "      <td>Abasolo</td>\n",
       "      <td>POLYGON ((2542499.989 972096.149, 2542587.468 ...</td>\n",
       "    </tr>\n",
       "    <tr>\n",
       "      <th>1</th>\n",
       "      <td>11002</td>\n",
       "      <td>11</td>\n",
       "      <td>002</td>\n",
       "      <td>Acámbaro</td>\n",
       "      <td>POLYGON ((2638096.783 914363.603, 2638286.058 ...</td>\n",
       "    </tr>\n",
       "    <tr>\n",
       "      <th>2</th>\n",
       "      <td>11003</td>\n",
       "      <td>11</td>\n",
       "      <td>003</td>\n",
       "      <td>San Miguel de Allende</td>\n",
       "      <td>POLYGON ((2642103.190 1011596.592, 2642233.013...</td>\n",
       "    </tr>\n",
       "    <tr>\n",
       "      <th>3</th>\n",
       "      <td>11004</td>\n",
       "      <td>11</td>\n",
       "      <td>004</td>\n",
       "      <td>Apaseo el Alto</td>\n",
       "      <td>POLYGON ((2655068.363 948110.418, 2655060.133 ...</td>\n",
       "    </tr>\n",
       "    <tr>\n",
       "      <th>4</th>\n",
       "      <td>11005</td>\n",
       "      <td>11</td>\n",
       "      <td>005</td>\n",
       "      <td>Apaseo el Grande</td>\n",
       "      <td>POLYGON ((2646700.974 966708.527, 2646858.266 ...</td>\n",
       "    </tr>\n",
       "    <tr>\n",
       "      <th>...</th>\n",
       "      <td>...</td>\n",
       "      <td>...</td>\n",
       "      <td>...</td>\n",
       "      <td>...</td>\n",
       "      <td>...</td>\n",
       "    </tr>\n",
       "    <tr>\n",
       "      <th>2464</th>\n",
       "      <td>12077</td>\n",
       "      <td>12</td>\n",
       "      <td>077</td>\n",
       "      <td>Marquelia</td>\n",
       "      <td>POLYGON ((2856513.739 527167.374, 2856502.172 ...</td>\n",
       "    </tr>\n",
       "    <tr>\n",
       "      <th>2465</th>\n",
       "      <td>12078</td>\n",
       "      <td>12</td>\n",
       "      <td>078</td>\n",
       "      <td>Cochoapa el Grande</td>\n",
       "      <td>POLYGON ((2880958.073 582667.777, 2881149.242 ...</td>\n",
       "    </tr>\n",
       "    <tr>\n",
       "      <th>2466</th>\n",
       "      <td>12079</td>\n",
       "      <td>12</td>\n",
       "      <td>079</td>\n",
       "      <td>José Joaquín de Herrera</td>\n",
       "      <td>POLYGON ((2820812.443 617027.626, 2820818.617 ...</td>\n",
       "    </tr>\n",
       "    <tr>\n",
       "      <th>2467</th>\n",
       "      <td>12080</td>\n",
       "      <td>12</td>\n",
       "      <td>080</td>\n",
       "      <td>Juchitán</td>\n",
       "      <td>POLYGON ((2866969.842 514074.185, 2867907.668 ...</td>\n",
       "    </tr>\n",
       "    <tr>\n",
       "      <th>2468</th>\n",
       "      <td>12081</td>\n",
       "      <td>12</td>\n",
       "      <td>081</td>\n",
       "      <td>Iliatenco</td>\n",
       "      <td>POLYGON ((2860052.783 575698.244, 2860075.915 ...</td>\n",
       "    </tr>\n",
       "  </tbody>\n",
       "</table>\n",
       "<p>2469 rows × 5 columns</p>\n",
       "</div>"
      ],
      "text/plain": [
       "     CVEGEO CVE_ENT CVE_MUN                   NOMGEO  \\\n",
       "0     11001      11     001                  Abasolo   \n",
       "1     11002      11     002                 Acámbaro   \n",
       "2     11003      11     003    San Miguel de Allende   \n",
       "3     11004      11     004           Apaseo el Alto   \n",
       "4     11005      11     005         Apaseo el Grande   \n",
       "...     ...     ...     ...                      ...   \n",
       "2464  12077      12     077                Marquelia   \n",
       "2465  12078      12     078       Cochoapa el Grande   \n",
       "2466  12079      12     079  José Joaquín de Herrera   \n",
       "2467  12080      12     080                 Juchitán   \n",
       "2468  12081      12     081                Iliatenco   \n",
       "\n",
       "                                               geometry  \n",
       "0     POLYGON ((2542499.989 972096.149, 2542587.468 ...  \n",
       "1     POLYGON ((2638096.783 914363.603, 2638286.058 ...  \n",
       "2     POLYGON ((2642103.190 1011596.592, 2642233.013...  \n",
       "3     POLYGON ((2655068.363 948110.418, 2655060.133 ...  \n",
       "4     POLYGON ((2646700.974 966708.527, 2646858.266 ...  \n",
       "...                                                 ...  \n",
       "2464  POLYGON ((2856513.739 527167.374, 2856502.172 ...  \n",
       "2465  POLYGON ((2880958.073 582667.777, 2881149.242 ...  \n",
       "2466  POLYGON ((2820812.443 617027.626, 2820818.617 ...  \n",
       "2467  POLYGON ((2866969.842 514074.185, 2867907.668 ...  \n",
       "2468  POLYGON ((2860052.783 575698.244, 2860075.915 ...  \n",
       "\n",
       "[2469 rows x 5 columns]"
      ]
     },
     "execution_count": 21,
     "metadata": {},
     "output_type": "execute_result"
    }
   ],
   "source": [
    "mun=gpd.read_file(\"MXshpMun/mexico_mun.shp\",\n",
    "                  dtype={\"CVEGEO\":str,\"CVE_ENT\":str,\"CVE_MUN\":str})[[\"CVEGEO\",\"CVE_ENT\",\n",
    "                                                                     \"CVE_MUN\",\"NOMGEO\",\"geometry\"]]\n",
    "mun"
   ]
  },
  {
   "cell_type": "code",
   "execution_count": 26,
   "id": "ac0e5fb0",
   "metadata": {},
   "outputs": [],
   "source": [
    "geotable=pd.merge(mun,finalTable,left_on=\"CVEGEO\",right_on=\"cvemun\",how=\"outer\")# save all the records"
   ]
  },
  {
   "cell_type": "code",
   "execution_count": 32,
   "id": "48280bac",
   "metadata": {},
   "outputs": [],
   "source": [
    "geotable.to_file(\"unio/munSUR.shp\")# export to shapefile"
   ]
  }
 ],
 "metadata": {
  "kernelspec": {
   "display_name": "Python 3",
   "language": "python",
   "name": "python3"
  },
  "language_info": {
   "codemirror_mode": {
    "name": "ipython",
    "version": 3
   },
   "file_extension": ".py",
   "mimetype": "text/x-python",
   "name": "python",
   "nbconvert_exporter": "python",
   "pygments_lexer": "ipython3",
   "version": "3.8.8"
  }
 },
 "nbformat": 4,
 "nbformat_minor": 5
}
